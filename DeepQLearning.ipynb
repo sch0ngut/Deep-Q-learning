{
  "nbformat": 4,
  "nbformat_minor": 0,
  "metadata": {
    "accelerator": "GPU",
    "colab": {
      "name": "DeepQLearning.ipynb",
      "provenance": [],
      "collapsed_sections": []
    },
    "kernelspec": {
      "display_name": "Python 3",
      "name": "python3"
    },
    "language_info": {
      "name": "python"
    }
  },
  "cells": [
    {
      "cell_type": "markdown",
      "metadata": {
        "id": "2PGmYbfTU1O8"
      },
      "source": [
        "Run this notebook in google colab to speed up the computations using a GPU:\n",
        "`Runtime` -> `Change runtime type`"
      ]
    },
    {
      "cell_type": "markdown",
      "metadata": {
        "id": "_GrdgWzGVRc9"
      },
      "source": [
        "## Check GPU availability"
      ]
    },
    {
      "cell_type": "code",
      "metadata": {
        "colab": {
          "base_uri": "https://localhost:8080/"
        },
        "id": "-upDl-FKVPGp",
        "outputId": "1cabda9b-5ce2-4c28-c244-367f9fd9ceb2"
      },
      "source": [
        "import torch\n",
        "\n",
        "if torch.cuda.is_available():\n",
        "  print(\"GPU available\")\n",
        "else:\n",
        "  print(\"GPU not available!\")"
      ],
      "execution_count": 2,
      "outputs": [
        {
          "output_type": "stream",
          "text": [
            "GPU available\n"
          ],
          "name": "stdout"
        }
      ]
    },
    {
      "cell_type": "markdown",
      "metadata": {
        "id": "gwOKz1z6WFVc"
      },
      "source": [
        "## Access files\n",
        "Mount GoogleDrive"
      ]
    },
    {
      "cell_type": "code",
      "metadata": {
        "colab": {
          "base_uri": "https://localhost:8080/"
        },
        "id": "S77TqHa-1IMa",
        "outputId": "cc462046-45a8-4d09-fac0-c568dcea2c1d"
      },
      "source": [
        "from google.colab import drive\n",
        "drive.mount('/content/drive')"
      ],
      "execution_count": 3,
      "outputs": [
        {
          "output_type": "stream",
          "text": [
            "Mounted at /content/drive\n"
          ],
          "name": "stdout"
        }
      ]
    },
    {
      "cell_type": "markdown",
      "metadata": {
        "id": "Vz59CZoIVWtO"
      },
      "source": [
        "After mounting the GoogleDrive, upload the project files in `drive/MyDrive/DeepQLearning/` and if not already existing, create a folder `models`."
      ]
    },
    {
      "cell_type": "markdown",
      "metadata": {
        "id": "qPATyzrHSMhJ"
      },
      "source": [
        "## Set up Atari environment for Google Colab\n",
        "Download the roms from \n",
        "http://www.atarimania.com/rom_collection_archive_atari_2600_roms.html\n",
        "\n",
        "Unpack the .rar file then unzip the HC Roms and Roms folders.\n",
        "\n",
        "Upload the folders to `drive/MyDrive/DeepQLearning/`\n",
        "\n",
        "Finally run"
      ]
    },
    {
      "cell_type": "code",
      "metadata": {
        "colab": {
          "base_uri": "https://localhost:8080/"
        },
        "id": "Bu88Q50GSq-L",
        "outputId": "7f6d7335-0d15-4d03-fff0-077db47461c6"
      },
      "source": [
        "!python -m atari_py.import_roms drive/MyDrive/DeepQLearning"
      ],
      "execution_count": 5,
      "outputs": [
        {
          "output_type": "stream",
          "text": [
            "copying assault.bin from drive/MyDrive/DeepQLearning/HC ROMS/NTSC VERSIONS OF PAL ORIGINALS/Assault (AKA Sky Alien) (1983) (Bomb - Onbase) (CA281).bin to /usr/local/lib/python3.7/dist-packages/atari_py/atari_roms/assault.bin\n",
            "copying adventure.bin from drive/MyDrive/DeepQLearning/HC ROMS/PAL VERSIONS OF NTSC ORIGINALS/Adventure (1980) (Atari, Warren Robinett) (CX2613, CX2613P) (PAL).bin to /usr/local/lib/python3.7/dist-packages/atari_py/atari_roms/adventure.bin\n",
            "copying pacman.bin from drive/MyDrive/DeepQLearning/HC ROMS/PAL VERSIONS OF NTSC ORIGINALS/Pac-Man (1982) (Atari, Tod Frye) (CX2646) (PAL).bin to /usr/local/lib/python3.7/dist-packages/atari_py/atari_roms/pacman.bin\n",
            "copying keystone_kapers.bin from drive/MyDrive/DeepQLearning/HC ROMS/PAL VERSIONS OF NTSC ORIGINALS/Keystone Kapers - Raueber und Gendarm (1983) (Activision, Garry Kitchen - Ariola) (EAX-025, EAX-025-04I - 711 025-725) (PAL).bin to /usr/local/lib/python3.7/dist-packages/atari_py/atari_roms/keystone_kapers.bin\n",
            "copying king_kong.bin from drive/MyDrive/DeepQLearning/HC ROMS/PAL VERSIONS OF NTSC ORIGINALS/King Kong (1982) (Tigervision - Software Electronics Corporation, Karl T. Olinger - Teldec) (7-001 - 3.60001 VE) (PAL).bin to /usr/local/lib/python3.7/dist-packages/atari_py/atari_roms/king_kong.bin\n",
            "copying laser_gates.bin from drive/MyDrive/DeepQLearning/HC ROMS/PAL VERSIONS OF NTSC ORIGINALS/Laser Gates (AKA Innerspace) (1983) (Imagic, Dan Oliver) (720118-2A, 13208, EIX-007-04I) (PAL).bin to /usr/local/lib/python3.7/dist-packages/atari_py/atari_roms/laser_gates.bin\n",
            "copying sir_lancelot.bin from drive/MyDrive/DeepQLearning/HC ROMS/PAL VERSIONS OF NTSC ORIGINALS/Sir Lancelot (1983) (Xonox - K-Tel Software - Product Guild, Anthony R. Henderson) (99006, 6220) (PAL).bin to /usr/local/lib/python3.7/dist-packages/atari_py/atari_roms/sir_lancelot.bin\n",
            "copying mr_do.bin from drive/MyDrive/DeepQLearning/HC ROMS/PAL VERSIONS OF NTSC ORIGINALS/Mr. Do! (1983) (CBS Electronics, Ed English) (4L4478) (PAL).bin to /usr/local/lib/python3.7/dist-packages/atari_py/atari_roms/mr_do.bin\n",
            "copying journey_escape.bin from drive/MyDrive/DeepQLearning/HC ROMS/BY COMPANY/Data Age/Journey Escape.bin to /usr/local/lib/python3.7/dist-packages/atari_py/atari_roms/journey_escape.bin\n",
            "copying gopher.bin from drive/MyDrive/DeepQLearning/HC ROMS/BY COMPANY/U.S. Games Corporation/Gopher.bin to /usr/local/lib/python3.7/dist-packages/atari_py/atari_roms/gopher.bin\n",
            "copying name_this_game.bin from drive/MyDrive/DeepQLearning/HC ROMS/BY COMPANY/U.S. Games Corporation/Name This Game.bin to /usr/local/lib/python3.7/dist-packages/atari_py/atari_roms/name_this_game.bin\n",
            "copying bank_heist.bin from drive/MyDrive/DeepQLearning/HC ROMS/BY COMPANY/20th Century Fox Video Games/Bank Heist.bin to /usr/local/lib/python3.7/dist-packages/atari_py/atari_roms/bank_heist.bin\n",
            "copying alien.bin from drive/MyDrive/DeepQLearning/HC ROMS/BY COMPANY/20th Century Fox Video Games/Alien.bin to /usr/local/lib/python3.7/dist-packages/atari_py/atari_roms/alien.bin\n",
            "copying montezuma_revenge.bin from drive/MyDrive/DeepQLearning/HC ROMS/BY COMPANY/Parker Brothers/Montezuma's Revenge - Featuring Panama Joe.bin to /usr/local/lib/python3.7/dist-packages/atari_py/atari_roms/montezuma_revenge.bin\n",
            "copying amidar.bin from drive/MyDrive/DeepQLearning/HC ROMS/BY COMPANY/Parker Brothers/Amidar.bin to /usr/local/lib/python3.7/dist-packages/atari_py/atari_roms/amidar.bin\n",
            "copying frogger.bin from drive/MyDrive/DeepQLearning/HC ROMS/BY COMPANY/Parker Brothers/Frogger.bin to /usr/local/lib/python3.7/dist-packages/atari_py/atari_roms/frogger.bin\n",
            "copying qbert.bin from drive/MyDrive/DeepQLearning/HC ROMS/BY COMPANY/Parker Brothers/Q-bert.bin to /usr/local/lib/python3.7/dist-packages/atari_py/atari_roms/qbert.bin\n",
            "copying tutankham.bin from drive/MyDrive/DeepQLearning/HC ROMS/BY COMPANY/Parker Brothers/Tutankham.bin to /usr/local/lib/python3.7/dist-packages/atari_py/atari_roms/tutankham.bin\n",
            "copying jamesbond.bin from drive/MyDrive/DeepQLearning/HC ROMS/BY COMPANY/Parker Brothers/James Bond 007.bin to /usr/local/lib/python3.7/dist-packages/atari_py/atari_roms/jamesbond.bin\n",
            "copying atlantis.bin from drive/MyDrive/DeepQLearning/HC ROMS/BY COMPANY/Imagic/Atlantis.bin to /usr/local/lib/python3.7/dist-packages/atari_py/atari_roms/atlantis.bin\n",
            "copying demon_attack.bin from drive/MyDrive/DeepQLearning/HC ROMS/BY COMPANY/Imagic/Demon Attack.bin to /usr/local/lib/python3.7/dist-packages/atari_py/atari_roms/demon_attack.bin\n",
            "copying kung_fu_master.bin from drive/MyDrive/DeepQLearning/HC ROMS/BY COMPANY/Activision/Kung-Fu Master.bin to /usr/local/lib/python3.7/dist-packages/atari_py/atari_roms/kung_fu_master.bin\n",
            "copying pitfall.bin from drive/MyDrive/DeepQLearning/HC ROMS/BY COMPANY/Activision/Pitfall! - Pitfall Harry's Jungle Adventure.bin to /usr/local/lib/python3.7/dist-packages/atari_py/atari_roms/pitfall.bin\n",
            "copying chopper_command.bin from drive/MyDrive/DeepQLearning/HC ROMS/BY COMPANY/Activision/Chopper Command.bin to /usr/local/lib/python3.7/dist-packages/atari_py/atari_roms/chopper_command.bin\n",
            "copying ice_hockey.bin from drive/MyDrive/DeepQLearning/HC ROMS/BY COMPANY/Activision/Ice Hockey.bin to /usr/local/lib/python3.7/dist-packages/atari_py/atari_roms/ice_hockey.bin\n",
            "copying boxing.bin from drive/MyDrive/DeepQLearning/HC ROMS/BY COMPANY/Activision/Boxing.bin to /usr/local/lib/python3.7/dist-packages/atari_py/atari_roms/boxing.bin\n",
            "copying freeway.bin from drive/MyDrive/DeepQLearning/HC ROMS/BY COMPANY/Activision/Freeway.bin to /usr/local/lib/python3.7/dist-packages/atari_py/atari_roms/freeway.bin\n",
            "copying kaboom.bin from drive/MyDrive/DeepQLearning/HC ROMS/BY COMPANY/Activision/Kaboom!.bin to /usr/local/lib/python3.7/dist-packages/atari_py/atari_roms/kaboom.bin\n",
            "copying skiing.bin from drive/MyDrive/DeepQLearning/HC ROMS/BY COMPANY/Activision/Skiing.bin to /usr/local/lib/python3.7/dist-packages/atari_py/atari_roms/skiing.bin\n",
            "copying tennis.bin from drive/MyDrive/DeepQLearning/HC ROMS/BY COMPANY/Activision/Tennis.bin to /usr/local/lib/python3.7/dist-packages/atari_py/atari_roms/tennis.bin\n",
            "copying robotank.bin from drive/MyDrive/DeepQLearning/HC ROMS/BY COMPANY/Activision/Robot Tank.bin to /usr/local/lib/python3.7/dist-packages/atari_py/atari_roms/robotank.bin\n",
            "copying hero.bin from drive/MyDrive/DeepQLearning/HC ROMS/BY COMPANY/Activision/H.E.R.O..bin to /usr/local/lib/python3.7/dist-packages/atari_py/atari_roms/hero.bin\n",
            "copying beam_rider.bin from drive/MyDrive/DeepQLearning/HC ROMS/BY COMPANY/Activision/Beamrider.bin to /usr/local/lib/python3.7/dist-packages/atari_py/atari_roms/beam_rider.bin\n",
            "copying fishing_derby.bin from drive/MyDrive/DeepQLearning/HC ROMS/BY COMPANY/Activision/Fishing Derby.bin to /usr/local/lib/python3.7/dist-packages/atari_py/atari_roms/fishing_derby.bin\n",
            "copying frostbite.bin from drive/MyDrive/DeepQLearning/HC ROMS/BY COMPANY/Activision/Frostbite.bin to /usr/local/lib/python3.7/dist-packages/atari_py/atari_roms/frostbite.bin\n",
            "copying enduro.bin from drive/MyDrive/DeepQLearning/HC ROMS/BY COMPANY/Activision/Enduro.bin to /usr/local/lib/python3.7/dist-packages/atari_py/atari_roms/enduro.bin\n",
            "copying private_eye.bin from drive/MyDrive/DeepQLearning/HC ROMS/BY COMPANY/Activision/Private Eye.bin to /usr/local/lib/python3.7/dist-packages/atari_py/atari_roms/private_eye.bin\n",
            "copying seaquest.bin from drive/MyDrive/DeepQLearning/HC ROMS/BY COMPANY/Activision/Seaquest.bin to /usr/local/lib/python3.7/dist-packages/atari_py/atari_roms/seaquest.bin\n",
            "copying riverraid.bin from drive/MyDrive/DeepQLearning/HC ROMS/BY COMPANY/Activision/River Raid.bin to /usr/local/lib/python3.7/dist-packages/atari_py/atari_roms/riverraid.bin\n",
            "copying up_n_down.bin from drive/MyDrive/DeepQLearning/HC ROMS/BY COMPANY/SEGA/Up 'n Down.bin to /usr/local/lib/python3.7/dist-packages/atari_py/atari_roms/up_n_down.bin\n",
            "copying lost_luggage.bin from drive/MyDrive/DeepQLearning/HC ROMS/BY COMPANY/Apollo - Games by Apollo/Lost Luggage [no opening scene].bin to /usr/local/lib/python3.7/dist-packages/atari_py/atari_roms/lost_luggage.bin\n",
            "copying pooyan.bin from drive/MyDrive/DeepQLearning/HC ROMS/BY COMPANY/Konami/Pooyan.bin to /usr/local/lib/python3.7/dist-packages/atari_py/atari_roms/pooyan.bin\n",
            "copying ms_pacman.bin from drive/MyDrive/DeepQLearning/HC ROMS/BY COMPANY/Atari - Sears/Ms. Pac-Man.bin to /usr/local/lib/python3.7/dist-packages/atari_py/atari_roms/ms_pacman.bin\n",
            "copying breakout.bin from drive/MyDrive/DeepQLearning/HC ROMS/BY COMPANY/Atari - Sears/Breakout - Breakaway IV.bin to /usr/local/lib/python3.7/dist-packages/atari_py/atari_roms/breakout.bin\n",
            "copying space_invaders.bin from drive/MyDrive/DeepQLearning/HC ROMS/BY COMPANY/Atari - Sears/Space Invaders.bin to /usr/local/lib/python3.7/dist-packages/atari_py/atari_roms/space_invaders.bin\n",
            "copying video_pinball.bin from drive/MyDrive/DeepQLearning/HC ROMS/BY COMPANY/Atari - Sears/Video Pinball - Arcade Pinball.bin to /usr/local/lib/python3.7/dist-packages/atari_py/atari_roms/video_pinball.bin\n",
            "copying asteroids.bin from drive/MyDrive/DeepQLearning/HC ROMS/BY COMPANY/Atari - Sears/Asteroids [no copyright].bin to /usr/local/lib/python3.7/dist-packages/atari_py/atari_roms/asteroids.bin\n",
            "copying berzerk.bin from drive/MyDrive/DeepQLearning/HC ROMS/BY COMPANY/Atari - Sears/Berzerk.bin to /usr/local/lib/python3.7/dist-packages/atari_py/atari_roms/berzerk.bin\n",
            "copying bowling.bin from drive/MyDrive/DeepQLearning/HC ROMS/BY COMPANY/Atari - Sears/Bowling.bin to /usr/local/lib/python3.7/dist-packages/atari_py/atari_roms/bowling.bin\n",
            "copying battle_zone.bin from drive/MyDrive/DeepQLearning/HC ROMS/BY COMPANY/Atari - Sears/Battlezone.bin to /usr/local/lib/python3.7/dist-packages/atari_py/atari_roms/battle_zone.bin\n",
            "copying crazy_climber.bin from drive/MyDrive/DeepQLearning/HC ROMS/BY COMPANY/Atari - Sears/Crazy Climber.bin to /usr/local/lib/python3.7/dist-packages/atari_py/atari_roms/crazy_climber.bin\n",
            "copying centipede.bin from drive/MyDrive/DeepQLearning/HC ROMS/BY COMPANY/Atari - Sears/Centipede.bin to /usr/local/lib/python3.7/dist-packages/atari_py/atari_roms/centipede.bin\n",
            "copying defender.bin from drive/MyDrive/DeepQLearning/HC ROMS/BY COMPANY/Atari - Sears/Defender.bin to /usr/local/lib/python3.7/dist-packages/atari_py/atari_roms/defender.bin\n",
            "copying double_dunk.bin from drive/MyDrive/DeepQLearning/HC ROMS/BY COMPANY/Atari - Sears/Double Dunk.bin to /usr/local/lib/python3.7/dist-packages/atari_py/atari_roms/double_dunk.bin\n",
            "copying gravitar.bin from drive/MyDrive/DeepQLearning/HC ROMS/BY COMPANY/Atari - Sears/Gravitar.bin to /usr/local/lib/python3.7/dist-packages/atari_py/atari_roms/gravitar.bin\n",
            "copying galaxian.bin from drive/MyDrive/DeepQLearning/HC ROMS/BY COMPANY/Atari - Sears/Galaxian.bin to /usr/local/lib/python3.7/dist-packages/atari_py/atari_roms/galaxian.bin\n",
            "copying kangaroo.bin from drive/MyDrive/DeepQLearning/HC ROMS/BY COMPANY/Atari - Sears/Kangaroo.bin to /usr/local/lib/python3.7/dist-packages/atari_py/atari_roms/kangaroo.bin\n",
            "copying krull.bin from drive/MyDrive/DeepQLearning/HC ROMS/BY COMPANY/Atari - Sears/Krull.bin to /usr/local/lib/python3.7/dist-packages/atari_py/atari_roms/krull.bin\n",
            "copying phoenix.bin from drive/MyDrive/DeepQLearning/HC ROMS/BY COMPANY/Atari - Sears/Phoenix.bin to /usr/local/lib/python3.7/dist-packages/atari_py/atari_roms/phoenix.bin\n",
            "copying surround.bin from drive/MyDrive/DeepQLearning/HC ROMS/BY COMPANY/Atari - Sears/Surround - Chase.bin to /usr/local/lib/python3.7/dist-packages/atari_py/atari_roms/surround.bin\n",
            "copying solaris.bin from drive/MyDrive/DeepQLearning/HC ROMS/BY COMPANY/Atari - Sears/Solaris.bin to /usr/local/lib/python3.7/dist-packages/atari_py/atari_roms/solaris.bin\n",
            "copying pong.bin from drive/MyDrive/DeepQLearning/HC ROMS/BY COMPANY/Atari - Sears/Video Olympics - Pong Sports.bin to /usr/local/lib/python3.7/dist-packages/atari_py/atari_roms/pong.bin\n",
            "copying yars_revenge.bin from drive/MyDrive/DeepQLearning/HC ROMS/BY COMPANY/Atari - Sears/Yars' Revenge.bin to /usr/local/lib/python3.7/dist-packages/atari_py/atari_roms/yars_revenge.bin\n",
            "copying elevator_action.bin from drive/MyDrive/DeepQLearning/HC ROMS/BY COMPANY/Atari - Sears/Elevator Action (Prototype).bin to /usr/local/lib/python3.7/dist-packages/atari_py/atari_roms/elevator_action.bin\n",
            "copying road_runner.bin from patched version of drive/MyDrive/DeepQLearning/HC ROMS/BY COMPANY/Atari - Sears/Road Runner.bin to /usr/local/lib/python3.7/dist-packages/atari_py/atari_roms/road_runner.bin\n",
            "copying koolaid.bin from drive/MyDrive/DeepQLearning/HC ROMS/BY COMPANY/M Network - Mattel Electronics/Kool-Aid Man.bin to /usr/local/lib/python3.7/dist-packages/atari_py/atari_roms/koolaid.bin\n",
            "copying trondead.bin from drive/MyDrive/DeepQLearning/HC ROMS/BY COMPANY/M Network - Mattel Electronics/TRON - Deadly Discs.bin to /usr/local/lib/python3.7/dist-packages/atari_py/atari_roms/trondead.bin\n",
            "copying carnival.bin from drive/MyDrive/DeepQLearning/HC ROMS/BY COMPANY/Coleco/Carnival.bin to /usr/local/lib/python3.7/dist-packages/atari_py/atari_roms/carnival.bin\n",
            "copying donkey_kong.bin from drive/MyDrive/DeepQLearning/HC ROMS/BY COMPANY/Coleco/Donkey Kong.bin to /usr/local/lib/python3.7/dist-packages/atari_py/atari_roms/donkey_kong.bin\n",
            "copying zaxxon.bin from drive/MyDrive/DeepQLearning/HC ROMS/BY COMPANY/Coleco/Zaxxon.bin to /usr/local/lib/python3.7/dist-packages/atari_py/atari_roms/zaxxon.bin\n",
            "copying time_pilot.bin from drive/MyDrive/DeepQLearning/HC ROMS/BY COMPANY/Coleco/Time Pilot.bin to /usr/local/lib/python3.7/dist-packages/atari_py/atari_roms/time_pilot.bin\n",
            "copying venture.bin from drive/MyDrive/DeepQLearning/HC ROMS/BY COMPANY/Coleco/Venture.bin to /usr/local/lib/python3.7/dist-packages/atari_py/atari_roms/venture.bin\n",
            "copying wizard_of_wor.bin from drive/MyDrive/DeepQLearning/HC ROMS/BY COMPANY/CBS Electronics/Wizard of Wor.bin to /usr/local/lib/python3.7/dist-packages/atari_py/atari_roms/wizard_of_wor.bin\n",
            "copying star_gunner.bin from drive/MyDrive/DeepQLearning/HC ROMS/BY COMPANY/Telesys/Stargunner.bin to /usr/local/lib/python3.7/dist-packages/atari_py/atari_roms/star_gunner.bin\n",
            "copying air_raid.bin from drive/MyDrive/DeepQLearning/HC ROMS/BY COMPANY/Men-A-Vision/Air Raid (PAL).bin to /usr/local/lib/python3.7/dist-packages/atari_py/atari_roms/air_raid.bin\n",
            "copying asterix.bin from drive/MyDrive/DeepQLearning/ROMS/Asterix (AKA Taz) (1984) (Atari, Jerome Domurat, Steve Woita) (CX2696).bin to /usr/local/lib/python3.7/dist-packages/atari_py/atari_roms/asterix.bin\n"
          ],
          "name": "stdout"
        }
      ]
    },
    {
      "cell_type": "markdown",
      "metadata": {
        "id": "O92S9d5BWbvC"
      },
      "source": [
        "## Model training\n",
        "To perform model training run the following command. To obtain decent results at least 6 hours of training time on a GPU are necesssary."
      ]
    },
    {
      "cell_type": "code",
      "metadata": {
        "colab": {
          "base_uri": "https://localhost:8080/"
        },
        "id": "nkg6jzdwWdDA",
        "outputId": "62c433c8-e690-48b7-95ec-a8ec6a198c77"
      },
      "source": [
        "!python drive/MyDrive/DeepQLearning/train.py --env Pong-v0 --path_prefix drive/MyDrive/DeepQLearning/"
      ],
      "execution_count": null,
      "outputs": [
        {
          "output_type": "stream",
          "text": [
            "Episode 0/2000: -21.0\n",
            "Best performance so far! Saving model.\n",
            "Episode 25/2000: -21.0\n",
            "Best performance so far! Saving model.\n",
            "Episode 50/2000: -21.0\n",
            "Best performance so far! Saving model.\n",
            "Episode 75/2000: -21.0\n",
            "Best performance so far! Saving model.\n",
            "Episode 100/2000: -21.0\n",
            "Best performance so far! Saving model.\n",
            "Episode 125/2000: -21.0\n",
            "Best performance so far! Saving model.\n",
            "Episode 150/2000: -21.0\n",
            "Best performance so far! Saving model.\n",
            "Episode 175/2000: -20.6\n",
            "Best performance so far! Saving model.\n",
            "Episode 200/2000: -21.0\n",
            "Episode 225/2000: -21.0\n",
            "Episode 250/2000: -20.2\n",
            "Best performance so far! Saving model.\n",
            "Episode 275/2000: -20.6\n",
            "Episode 300/2000: -21.0\n",
            "Episode 325/2000: -19.4\n",
            "Best performance so far! Saving model.\n"
          ],
          "name": "stdout"
        }
      ]
    },
    {
      "cell_type": "markdown",
      "metadata": {
        "id": "0WRekpXCXI5u"
      },
      "source": [
        "## Model evaluation\n",
        "Using the following command the built model can be evaluated. Note that there is some volatility of the performance over several runs. To get an estimate of the expected mean  return you can set e.g. `n_eval_episodes=10`. You can also set `render` if you want to see the agent in action."
      ]
    },
    {
      "cell_type": "code",
      "metadata": {
        "colab": {
          "base_uri": "https://localhost:8080/"
        },
        "id": "b6jBQXoCisg4",
        "outputId": "3396dc7e-695f-4574-c7d3-97970f0fcbad"
      },
      "source": [
        "!python drive/MyDrive/DeepQLearning/evaluate.py --env Pong-v0 --path drive/MyDrive/DeepQLearning/models/Pong-v0_best.pt"
      ],
      "execution_count": null,
      "outputs": [
        {
          "output_type": "stream",
          "text": [
            "Traceback (most recent call last):\n",
            "  File \"drive/MyDrive/DeepQLearning/evaluate.py\", line 68, in <module>\n",
            "    env = gym.make(args.env)\n",
            "  File \"/usr/local/lib/python3.7/dist-packages/gym/envs/registration.py\", line 145, in make\n",
            "    return registry.make(id, **kwargs)\n",
            "  File \"/usr/local/lib/python3.7/dist-packages/gym/envs/registration.py\", line 90, in make\n",
            "    env = spec.make(**kwargs)\n",
            "  File \"/usr/local/lib/python3.7/dist-packages/gym/envs/registration.py\", line 60, in make\n",
            "    env = cls(**_kwargs)\n",
            "  File \"/usr/local/lib/python3.7/dist-packages/gym/envs/atari/atari_env.py\", line 49, in __init__\n",
            "    self.game_path = atari_py.get_game_path(game)\n",
            "  File \"/usr/local/lib/python3.7/dist-packages/atari_py/games.py\", line 20, in get_game_path\n",
            "    raise Exception('ROM is missing for %s, see https://github.com/openai/atari-py#roms for instructions' % (game_name,))\n",
            "Exception: ROM is missing for pong, see https://github.com/openai/atari-py#roms for instructions\n"
          ],
          "name": "stdout"
        }
      ]
    }
  ]
}