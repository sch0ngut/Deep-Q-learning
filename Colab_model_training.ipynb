{
  "nbformat": 4,
  "nbformat_minor": 0,
  "metadata": {
    "accelerator": "GPU",
    "colab": {
      "name": "DeepQLearning.ipynb",
      "provenance": [],
      "collapsed_sections": []
    },
    "kernelspec": {
      "display_name": "Python 3",
      "name": "python3"
    },
    "language_info": {
      "name": "python"
    }
  },
  "cells": [
    {
      "cell_type": "markdown",
      "metadata": {
        "id": "2PGmYbfTU1O8"
      },
      "source": [
        "Run this notebook in google colab to speed up the computations using a GPU:\n",
        "`Runtime` -> `Change runtime type`"
      ]
    },
    {
      "cell_type": "markdown",
      "metadata": {
        "id": "_GrdgWzGVRc9"
      },
      "source": [
        "## Check GPU availability"
      ]
    },
    {
      "cell_type": "code",
      "metadata": {
        "id": "-upDl-FKVPGp"
      },
      "source": [
        "import torch\n",
        "\n",
        "if torch.cuda.is_available():\n",
        "  print(\"GPU available\")\n",
        "else:\n",
        "  print(\"GPU not available!\")"
      ],
      "execution_count": null,
      "outputs": []
    },
    {
      "cell_type": "markdown",
      "metadata": {
        "id": "gwOKz1z6WFVc"
      },
      "source": [
        "## Access files\n",
        "Mount GoogleDrive"
      ]
    },
    {
      "cell_type": "code",
      "metadata": {
        "id": "S77TqHa-1IMa"
      },
      "source": [
        "from google.colab import drive\n",
        "drive.mount('/content/drive')"
      ],
      "execution_count": null,
      "outputs": []
    },
    {
      "cell_type": "markdown",
      "metadata": {
        "id": "Vz59CZoIVWtO"
      },
      "source": [
        "After mounting the GoogleDrive, upload the project files in `drive/MyDrive/DeepQLearning/` and if not already existing, create a folder `models`."
      ]
    },
    {
      "cell_type": "markdown",
      "metadata": {
        "id": "qPATyzrHSMhJ"
      },
      "source": [
        "## Set up Atari environment for Google Colab\n",
        "Download the roms from \n",
        "http://www.atarimania.com/rom_collection_archive_atari_2600_roms.html\n",
        "\n",
        "Unpack the .rar file then unzip the HC Roms and Roms folders.\n",
        "\n",
        "Upload the folders to `drive/MyDrive/DeepQLearning/`\n",
        "\n",
        "Finally run"
      ]
    },
    {
      "cell_type": "code",
      "metadata": {
        "id": "Bu88Q50GSq-L"
      },
      "source": [
        "!python -m atari_py.import_roms drive/MyDrive/DeepQLearning"
      ],
      "execution_count": null,
      "outputs": []
    },
    {
      "cell_type": "markdown",
      "metadata": {
        "id": "O92S9d5BWbvC"
      },
      "source": [
        "## Model training\n",
        "To perform model training run the following command. To obtain decent results at least 6 hours of training time on a GPU are necesssary."
      ]
    },
    {
      "cell_type": "code",
      "metadata": {
        "colab": {
          "background_save": true
        },
        "id": "nkg6jzdwWdDA"
      },
      "source": [
        "!python drive/MyDrive/DeepQLearning/train.py --env Pong-v0 --path_prefix drive/MyDrive/DeepQLearning/"
      ],
      "execution_count": null,
      "outputs": []
    },
    {
      "cell_type": "markdown",
      "metadata": {
        "id": "0WRekpXCXI5u"
      },
      "source": [
        "## Model evaluation\n",
        "Using the following command the built model can be evaluated. Note that there is some volatility in the performance over several runs. To get an estimate of the expected mean  return you can set e.g. `n_eval_episodes=10`. You can also set `render` if you want to see the agent in action."
      ]
    },
    {
      "cell_type": "code",
      "metadata": {
        "id": "b6jBQXoCisg4"
      },
      "source": [
        "!python drive/MyDrive/DeepQLearning/evaluate.py --env Pong-v0 --path drive/MyDrive/DeepQLearning/models/Pong-v0_best.pt"
      ],
      "execution_count": null,
      "outputs": []
    }
  ]
}